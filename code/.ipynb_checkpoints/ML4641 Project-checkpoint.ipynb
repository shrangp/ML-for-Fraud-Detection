{
 "cells": [
  {
   "cell_type": "code",
   "execution_count": 3,
   "metadata": {},
   "outputs": [],
   "source": [
    "import pandas as pd\n",
    "import numpy as np\n",
    "\n",
    "import helpers.py\n",
    "\n",
    "np.set_printoptions(suppress=True)\n",
    "#I refuse to try to read scientific notation\n",
    "\n",
    "pandaData = pd.read_csv('creditcard.csv')\n",
    "#Loading in the data as a Panda Dataframe"
   ]
  },
  {
   "cell_type": "code",
   "execution_count": 10,
   "metadata": {},
   "outputs": [
    {
     "name": "stdout",
     "output_type": "stream",
     "text": [
      "[0. 0. 0. ... 0. 0. 0.]\n",
      "[[     0.             -1.35980713     -0.07278117 ...      0.13355838\n",
      "      -0.02105305    149.62      ]\n",
      " [     0.              1.19185711      0.26615071 ...     -0.0089831\n",
      "       0.01472417      2.69      ]\n",
      " [     1.             -1.35835406     -1.34016307 ...     -0.05535279\n",
      "      -0.05975184    378.66      ]\n",
      " ...\n",
      " [172788.              1.91956501     -0.30125385 ...      0.00445477\n",
      "      -0.02656083     67.88      ]\n",
      " [172788.             -0.24044005      0.53048251 ...      0.10882073\n",
      "       0.10453282     10.        ]\n",
      " [172792.             -0.53341252     -0.18973334 ...     -0.00241531\n",
      "       0.01364891    217.        ]]\n"
     ]
    }
   ],
   "source": [
    "labeledDataset = pandaData.to_numpy()\n",
    "labels = labeledDataset[:, -1]\n",
    "\n",
    "print(labels)\n",
    "\n",
    "dataset = labeledDataset[:, 0: -1]\n",
    "print(dataset)"
   ]
  },
  {
   "cell_type": "code",
   "execution_count": 13,
   "metadata": {},
   "outputs": [
    {
     "name": "stdout",
     "output_type": "stream",
     "text": [
      "False\n"
     ]
    }
   ],
   "source": [
    "\"Testing for incomplete features\"\n",
    "#print(np.isnan(np.sum([np.nan, 5]))) #Testing a method\n",
    "print(np.isnan(np.sum(dataset)))\n",
    "#Dataset has no NaN values. All features should be complete"
   ]
  },
  {
   "cell_type": "code",
   "execution_count": 15,
   "metadata": {},
   "outputs": [
    {
     "name": "stdout",
     "output_type": "stream",
     "text": [
      "[94813.85957508     0.             0.            -0.\n",
      "     0.             0.             0.            -0.\n",
      "     0.            -0.             0.             0.\n",
      "    -0.             0.             0.             0.\n",
      "     0.            -0.             0.             0.\n",
      "     0.             0.            -0.             0.\n",
      "     0.             0.             0.            -0.\n",
      "    -0.            88.34961925]\n"
     ]
    }
   ],
   "source": [
    "\"Standardizing data\"\n",
    "\n",
    "averages = np.average(dataset, axis=0)\n",
    "print(averages)"
   ]
  },
  {
   "cell_type": "code",
   "execution_count": null,
   "metadata": {},
   "outputs": [],
   "source": []
  }
 ],
 "metadata": {
  "kernelspec": {
   "display_name": "Python 3 (ipykernel)",
   "language": "python",
   "name": "python3"
  },
  "language_info": {
   "codemirror_mode": {
    "name": "ipython",
    "version": 3
   },
   "file_extension": ".py",
   "mimetype": "text/x-python",
   "name": "python",
   "nbconvert_exporter": "python",
   "pygments_lexer": "ipython3",
   "version": "3.11.0"
  }
 },
 "nbformat": 4,
 "nbformat_minor": 2
}
