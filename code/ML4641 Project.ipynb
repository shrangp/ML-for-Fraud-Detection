{
 "cells": [
  {
   "cell_type": "code",
   "execution_count": 1,
   "metadata": {},
   "outputs": [],
   "source": [
    "import pandas as pd\n",
    "import numpy as np\n",
    "from collections import Counter\n",
    "import helpers\n",
    "\n",
    "np.set_printoptions(suppress=True)\n",
    "#I refuse to try to read scientific notation"
   ]
  },
  {
   "cell_type": "code",
   "execution_count": 2,
   "metadata": {},
   "outputs": [],
   "source": [
    "\n",
    "#pandaData = pd.read_csv('creditcard.csv')\n",
    "pandaData = pd.read_csv('creditcard.zip')\n",
    "pandaData = pandaData.drop_duplicates()\n",
    "#Loading in the data as a Panda Dataframe"
   ]
  },
  {
   "cell_type": "code",
   "execution_count": 3,
   "metadata": {},
   "outputs": [
    {
     "name": "stdout",
     "output_type": "stream",
     "text": [
      "[0. 0. 0. ... 0. 0. 0.]\n",
      "[[     0.             -1.35980713     -0.07278117 ...      0.13355838\n",
      "      -0.02105305    149.62      ]\n",
      " [     0.              1.19185711      0.26615071 ...     -0.0089831\n",
      "       0.01472417      2.69      ]\n",
      " [     1.             -1.35835406     -1.34016307 ...     -0.05535279\n",
      "      -0.05975184    378.66      ]\n",
      " ...\n",
      " [172788.              1.91956501     -0.30125385 ...      0.00445477\n",
      "      -0.02656083     67.88      ]\n",
      " [172788.             -0.24044005      0.53048251 ...      0.10882073\n",
      "       0.10453282     10.        ]\n",
      " [172792.             -0.53341252     -0.18973334 ...     -0.00241531\n",
      "       0.01364891    217.        ]]\n"
     ]
    }
   ],
   "source": [
    "labeledDataset = pandaData.to_numpy()\n",
    "labels = labeledDataset[:, -1]\n",
    "\n",
    "print(labels)\n",
    "\n",
    "dataset = labeledDataset[:, 0: -1]\n",
    "#If you want to remove the time value then use the line below instead\n",
    "#dataset = labeledDataset[:, 1: -1]\n",
    "print(dataset)"
   ]
  },
  {
   "cell_type": "code",
   "execution_count": 4,
   "metadata": {},
   "outputs": [
    {
     "name": "stdout",
     "output_type": "stream",
     "text": [
      "False\n"
     ]
    }
   ],
   "source": [
    "\"Testing for incomplete features\"\n",
    "#print(np.isnan(np.sum([np.nan, 5]))) #Testing a method\n",
    "print(np.isnan(np.sum(dataset)))\n",
    "#Dataset has no NaN values. All features should be complete"
   ]
  },
  {
   "cell_type": "code",
   "execution_count": 5,
   "metadata": {},
   "outputs": [
    {
     "name": "stdout",
     "output_type": "stream",
     "text": [
      "0\n"
     ]
    }
   ],
   "source": [
    "x, y = helpers.uniques(dataset, labels)\n",
    "data_points_removed = len(dataset) - len(x)\n",
    "print(data_points_removed)"
   ]
  },
  {
   "cell_type": "code",
   "execution_count": 6,
   "metadata": {},
   "outputs": [
    {
     "name": "stdout",
     "output_type": "stream",
     "text": [
      "-1.8607151007301196e-17\n",
      "[1. 1. 1. 1. 1. 1. 1. 1. 1. 1. 1. 1. 1. 1. 1. 1. 1. 1. 1. 1. 1. 1. 1. 1.\n",
      " 1. 1. 1. 1. 1. 1.]\n"
     ]
    }
   ],
   "source": [
    "\"Standardizing data\"\n",
    "\n",
    "averages = np.average(dataset, axis=0)\n",
    "variances = np.var(dataset, axis=0)\n",
    "#print(np.sum(averages))\n",
    "#print(variances)\n",
    "\n",
    "standardized = helpers.standardization(dataset)\n",
    "print(np.sum(np.average(standardized, axis=0)))\n",
    "print(np.var(standardized, axis=0))"
   ]
  },
  {
   "cell_type": "code",
   "execution_count": 7,
   "metadata": {},
   "outputs": [
    {
     "name": "stdout",
     "output_type": "stream",
     "text": [
      "[(0.0, 283253), (1.0, 473)]\n",
      "[(0.0, 473), (1.0, 473)]\n"
     ]
    }
   ],
   "source": [
    "#Undersampling tester\n",
    "print(sorted(Counter(labels).items()))\n",
    "x, y = helpers.undersampling(standardized, labels)\n",
    "#print(x)\n",
    "#print(y)\n",
    "print(sorted(Counter(y).items()))"
   ]
  },
  {
   "cell_type": "code",
   "execution_count": 8,
   "metadata": {},
   "outputs": [
    {
     "name": "stdout",
     "output_type": "stream",
     "text": [
      "[(0.0, 283253), (1.0, 473)]\n",
      "[(0.0, 283253), (1.0, 283253)]\n"
     ]
    }
   ],
   "source": [
    "#Oversampling tester\n",
    "print(sorted(Counter(labels).items()))\n",
    "x1, y1 = helpers.oversampling(standardized, labels, 'SMOTE')\n",
    "#print(x)\n",
    "#print(y)\n",
    "print(sorted(Counter(y1).items()))"
   ]
  },
  {
   "cell_type": "code",
   "execution_count": 9,
   "metadata": {},
   "outputs": [],
   "source": [
    "#Code to upload a dataset as a CSV\n",
    "\n",
    "import helpers\n",
    "helpers.toCSV(standardized, labels, 'standardized')\n",
    "helpers.toCSV(x, y, 'undersampled')\n",
    "helpers.toCSV(x1, y1, 'SMOTEsampled')"
   ]
  },
  {
   "cell_type": "code",
   "execution_count": null,
   "metadata": {},
   "outputs": [],
   "source": []
  }
 ],
 "metadata": {
  "kernelspec": {
   "display_name": "Python 3 (ipykernel)",
   "language": "python",
   "name": "python3"
  },
  "language_info": {
   "codemirror_mode": {
    "name": "ipython",
    "version": 3
   },
   "file_extension": ".py",
   "mimetype": "text/x-python",
   "name": "python",
   "nbconvert_exporter": "python",
   "pygments_lexer": "ipython3",
   "version": "3.11.0"
  }
 },
 "nbformat": 4,
 "nbformat_minor": 2
}
